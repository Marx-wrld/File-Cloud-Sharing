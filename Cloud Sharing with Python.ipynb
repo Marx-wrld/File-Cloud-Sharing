{
 "cells": [
  {
   "cell_type": "code",
   "execution_count": 1,
   "id": "3fd887dc",
   "metadata": {},
   "outputs": [
    {
     "name": "stdout",
     "output_type": "stream",
     "text": [
      "Collecting gofile\n",
      "  Downloading gofile-0.2.0-py3-none-any.whl (3.5 kB)\n",
      "Collecting requests~=2.25.1\n",
      "  Downloading requests-2.25.1-py2.py3-none-any.whl (61 kB)\n",
      "Collecting idna<3,>=2.5\n",
      "  Downloading idna-2.10-py2.py3-none-any.whl (58 kB)\n",
      "Requirement already satisfied: chardet<5,>=3.0.2 in c:\\users\\marx\\anaconda3\\lib\\site-packages (from requests~=2.25.1->gofile) (4.0.0)\n",
      "Requirement already satisfied: certifi>=2017.4.17 in c:\\users\\marx\\anaconda3\\lib\\site-packages (from requests~=2.25.1->gofile) (2022.9.24)\n",
      "Requirement already satisfied: urllib3<1.27,>=1.21.1 in c:\\users\\marx\\anaconda3\\lib\\site-packages (from requests~=2.25.1->gofile) (1.26.7)\n",
      "Installing collected packages: idna, requests, gofile\n",
      "  Attempting uninstall: idna\n",
      "    Found existing installation: idna 3.2\n",
      "    Uninstalling idna-3.2:\n",
      "      Successfully uninstalled idna-3.2\n",
      "  Attempting uninstall: requests\n",
      "    Found existing installation: requests 2.26.0\n",
      "    Uninstalling requests-2.26.0:\n",
      "      Successfully uninstalled requests-2.26.0\n",
      "Successfully installed gofile-0.2.0 idna-2.10 requests-2.25.1\n",
      "Note: you may need to restart the kernel to use updated packages.\n"
     ]
    },
    {
     "name": "stderr",
     "output_type": "stream",
     "text": [
      "ERROR: pip's dependency resolver does not currently take into account all the packages that are installed. This behaviour is the source of the following dependency conflicts.\n",
      "anaconda-project 0.10.1 requires ruamel-yaml, which is not installed.\n",
      "yfinance 0.1.74 requires requests>=2.26, but you have requests 2.25.1 which is incompatible.\n"
     ]
    }
   ],
   "source": [
    "pip install gofile"
   ]
  },
  {
   "cell_type": "code",
   "execution_count": 4,
   "id": "f426c546",
   "metadata": {},
   "outputs": [],
   "source": [
    "import gofile as go"
   ]
  },
  {
   "cell_type": "code",
   "execution_count": 8,
   "id": "fe980a1a",
   "metadata": {},
   "outputs": [
    {
     "name": "stdout",
     "output_type": "stream",
     "text": [
      "{'server': 'store3'}\n",
      "Download Link:  https://gofile.io/d/6xPqM0\n"
     ]
    }
   ],
   "source": [
    "def store_files(file):\n",
    "    cur_server = go.getServer()\n",
    "    print(cur_server)\n",
    "    url = go.uploadFile(file)\n",
    "    print(\"Download Link: \", url[\"downloadPage\"])\n",
    "store_files(\"talking with planets.pdf\")"
   ]
  },
  {
   "cell_type": "code",
   "execution_count": null,
   "id": "44214678",
   "metadata": {},
   "outputs": [],
   "source": []
  }
 ],
 "metadata": {
  "kernelspec": {
   "display_name": "Python 3 (ipykernel)",
   "language": "python",
   "name": "python3"
  },
  "language_info": {
   "codemirror_mode": {
    "name": "ipython",
    "version": 3
   },
   "file_extension": ".py",
   "mimetype": "text/x-python",
   "name": "python",
   "nbconvert_exporter": "python",
   "pygments_lexer": "ipython3",
   "version": "3.9.7"
  }
 },
 "nbformat": 4,
 "nbformat_minor": 5
}
